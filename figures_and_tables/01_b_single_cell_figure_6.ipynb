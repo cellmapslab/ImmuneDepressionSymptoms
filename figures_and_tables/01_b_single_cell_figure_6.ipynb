{
 "cells": [
  {
   "cell_type": "markdown",
   "metadata": {},
   "source": [
    "# Single cell analysis"
   ]
  },
  {
   "cell_type": "code",
   "execution_count": null,
   "metadata": {},
   "outputs": [],
   "source": [
    "import pandas as pd\n",
    "import scanpy as sc\n",
    "import anndata as ad\n",
    "import matplotlib as mpl"
   ]
  },
  {
   "cell_type": "code",
   "execution_count": null,
   "metadata": {},
   "outputs": [],
   "source": [
    "sc.set_figure_params(color_map='Reds', figsize=[9.8, 11.8], dpi_save=300, format='pdf', fontsize=29)\n",
    "sc.settings.figdir = '../03_figures'"
   ]
  },
  {
   "cell_type": "code",
   "execution_count": null,
   "metadata": {},
   "outputs": [],
   "source": [
    "# the first 4 data sets are corrupted and were provided directly from the author of scPower\n",
    "pbmcs_1 = sc.read_10x_mtx(\n",
    "    'PBMC_pool_1_14_run1/',\n",
    "    var_names='gene_symbols',\n",
    "    cache=True)\n",
    "pbmcs_2 = sc.read_10x_mtx(\n",
    "    'PBMC_pool_1_14_run2/',\n",
    "    var_names='gene_symbols',\n",
    "    cache=True)\n",
    "pbmcs_3 = sc.read_10x_mtx(\n",
    "    'PBMC_pool_1_14_run3/',\n",
    "    var_names='gene_symbols',\n",
    "    cache=True)\n",
    "pbmcs_4 = sc.read_10x_mtx(\n",
    "    'PBMC_pool_1_14_overloaded/',\n",
    "    var_names='gene_symbols',\n",
    "    cache=True)\n",
    "# the last 2 data sets are from GEO\n",
    "pbmcs_5 = sc.read_10x_mtx(\n",
    "    'GEO_all/GSE185714_RAW/',\n",
    "    prefix='GSM5621963_pool_1_7_run1_',\n",
    "    var_names='gene_symbols',\n",
    "    cache=True)\n",
    "pbmcs_6 = sc.read_10x_mtx(\n",
    "    'GSE185714_RAW/',\n",
    "    prefix='GSM5621964_pool_8_14_run1_',\n",
    "    var_names='gene_symbols',\n",
    "    cache=True)"
   ]
  },
  {
   "cell_type": "code",
   "execution_count": null,
   "metadata": {},
   "outputs": [],
   "source": [
    "# add cell information\n",
    "cell_ann_1 = pd.read_csv('PBMC_pool_1_14_run1/cellannotations.tsv', sep='\\t', index_col=0)\n",
    "pbmcs_1.obs = cell_ann_1\n",
    "cell_ann_2 = pd.read_csv('PBMC_pool_1_14_run2/cellannotations.tsv', sep='\\t', index_col=0)\n",
    "pbmcs_2.obs = cell_ann_2\n",
    "cell_ann_3 = pd.read_csv('PBMC_pool_1_14_run3/cellannotations.tsv', sep='\\t', index_col=0)\n",
    "pbmcs_3.obs = cell_ann_3\n",
    "cell_ann_4 = pd.read_csv('PBMC_pool_1_14_overloaded/cellannotations.tsv', sep='\\t', index_col=0)\n",
    "pbmcs_4.obs = cell_ann_4\n",
    "cell_ann_5 = pd.read_csv('GSE185714_RAW/GSM5621963_pool_1_7_run1_cellannotations.tsv', sep='\\t', index_col=0)\n",
    "pbmcs_5.obs = cell_ann_5\n",
    "cell_ann_6 = pd.read_csv('GSE185714_RAW/GSM5621964_pool_8_14_run1_cellannotations.tsv', sep='\\t', index_col=0)\n",
    "pbmcs_6.obs = cell_ann_6"
   ]
  },
  {
   "cell_type": "code",
   "execution_count": null,
   "metadata": {},
   "outputs": [],
   "source": [
    "# mitochondrial genes\n",
    "pbmcs_1.var[\"mt\"] = pbmcs_1.var_names.str.startswith(\"MT-\")\n",
    "pbmcs_2.var[\"mt\"] = pbmcs_2.var_names.str.startswith(\"MT-\")\n",
    "pbmcs_3.var[\"mt\"] = pbmcs_3.var_names.str.startswith(\"MT-\")\n",
    "pbmcs_4.var[\"mt\"] = pbmcs_4.var_names.str.startswith(\"MT-\")\n",
    "pbmcs_5.var[\"mt\"] = pbmcs_5.var_names.str.startswith(\"MT-\")\n",
    "pbmcs_6.var[\"mt\"] = pbmcs_6.var_names.str.startswith(\"MT-\")\n",
    "sc.pp.calculate_qc_metrics(pbmcs_1, qc_vars=[\"mt\"], percent_top=None, log1p=True, inplace=True)\n",
    "sc.pp.calculate_qc_metrics(pbmcs_2, qc_vars=[\"mt\"], percent_top=None, log1p=True, inplace=True)\n",
    "sc.pp.calculate_qc_metrics(pbmcs_3, qc_vars=[\"mt\"], percent_top=None, log1p=True, inplace=True)\n",
    "sc.pp.calculate_qc_metrics(pbmcs_4, qc_vars=[\"mt\"], percent_top=None, log1p=True, inplace=True)\n",
    "sc.pp.calculate_qc_metrics(pbmcs_5, qc_vars=[\"mt\"], percent_top=None, log1p=True, inplace=True)\n",
    "sc.pp.calculate_qc_metrics(pbmcs_6, qc_vars=[\"mt\"], percent_top=None, log1p=True, inplace=True)"
   ]
  },
  {
   "cell_type": "markdown",
   "metadata": {},
   "source": [
    "The matrix.mtx files contain the raw data, however the cellannotations.csv files contain the results from the QC from the scPower paper ('demuxlet_doublet', 'demuxlet_ambigious', 'scrublet_doublet', 'mito_filter', 'count_filter'). If one of these is True, they are filtered out. Alternatively, the variable 'cell_type' is NA if the cell was filtered out. Therefore, I can use just this variable for filtering."
   ]
  },
  {
   "cell_type": "code",
   "execution_count": null,
   "metadata": {},
   "outputs": [],
   "source": [
    "pbmcs_1_qc = pbmcs_1[pd.notnull(pbmcs_1.obs['cell_type']), :]\n",
    "pbmcs_2_qc = pbmcs_2[pd.notnull(pbmcs_2.obs['cell_type']), :]\n",
    "pbmcs_3_qc = pbmcs_3[pd.notnull(pbmcs_3.obs['cell_type']), :]\n",
    "pbmcs_4_qc = pbmcs_4[pd.notnull(pbmcs_4.obs['cell_type']), :]\n",
    "pbmcs_5_qc = pbmcs_5[pd.notnull(pbmcs_5.obs['cell_type']), :]\n",
    "pbmcs_6_qc = pbmcs_6[pd.notnull(pbmcs_6.obs['cell_type']), :]"
   ]
  },
  {
   "cell_type": "code",
   "execution_count": null,
   "metadata": {},
   "outputs": [],
   "source": [
    "# concatenate all data sets\n",
    "pbmcs_list = {\n",
    "    \"1_14_1\": pbmcs_1_qc,\n",
    "    \"1_14_2\": pbmcs_2_qc,\n",
    "    \"1_14_3\": pbmcs_3_qc,\n",
    "    \"1_14_overloaded\": pbmcs_4_qc,\n",
    "    \"1_7\": pbmcs_5_qc,\n",
    "    \"8_14\": pbmcs_6_qc\n",
    "}\n",
    "# the label argument adds the batch information\n",
    "pbmcs_all_qc = ad.concat(pbmcs_list, label='batch', index_unique='_')"
   ]
  },
  {
   "cell_type": "markdown",
   "metadata": {},
   "source": [
    "## Filter and normalize the data"
   ]
  },
  {
   "cell_type": "code",
   "execution_count": null,
   "metadata": {},
   "outputs": [],
   "source": [
    "sc.pp.filter_genes(pbmcs_all_qc, min_cells=3)\n",
    "sc.pp.normalize_total(pbmcs_all_qc, target_sum=1e4)\n",
    "sc.pp.log1p(pbmcs_all_qc)"
   ]
  },
  {
   "cell_type": "code",
   "execution_count": null,
   "metadata": {},
   "outputs": [],
   "source": [
    "# Regress out effects of total counts per cell and the percentage of mitochondrial genes expressed (taken from the scanpy 3k PBMC tutorial)\n",
    "sc.pp.regress_out(pbmcs_all_qc, ['total_counts', 'pct_counts_mt'])"
   ]
  },
  {
   "cell_type": "code",
   "execution_count": null,
   "metadata": {},
   "outputs": [],
   "source": [
    "# Scale each gene to unit variance. Clip values exceeding standard deviation 10.\n",
    "sc.pp.scale(pbmcs_all_qc, max_value=10)"
   ]
  },
  {
   "cell_type": "markdown",
   "metadata": {},
   "source": [
    "## Principal component analysis and data visualization"
   ]
  },
  {
   "cell_type": "code",
   "execution_count": null,
   "metadata": {},
   "outputs": [],
   "source": [
    "sc.tl.pca(pbmcs_all_qc, svd_solver='arpack')"
   ]
  },
  {
   "cell_type": "code",
   "execution_count": null,
   "metadata": {},
   "outputs": [],
   "source": [
    "# something went wrong when reading in the cellannotations.csv data\n",
    "# (I suspect there were NAs so the columns weren't read in as boolean)\n",
    "pbmcs_all_qc.obs['demuxlet_doublet'] = pbmcs_all_qc.obs.demuxlet_doublet == 'True'\n",
    "pbmcs_all_qc.obs['demuxlet_ambigious'] = pbmcs_all_qc.obs.demuxlet_ambigious == 'True'\n",
    "pbmcs_all_qc.obs['mito_filter'] = pbmcs_all_qc.obs.mito_filter == 'True'\n",
    "pbmcs_all_qc.obs['count_filter'] = pbmcs_all_qc.obs.count_filter == 'True'"
   ]
  },
  {
   "cell_type": "code",
   "execution_count": null,
   "metadata": {},
   "outputs": [],
   "source": [
    "sc.pp.neighbors(pbmcs_all_qc, n_neighbors=10, n_pcs=40)\n",
    "sc.tl.umap(pbmcs_all_qc)"
   ]
  },
  {
   "cell_type": "markdown",
   "metadata": {},
   "source": [
    "### Plots"
   ]
  },
  {
   "cell_type": "code",
   "execution_count": null,
   "metadata": {},
   "outputs": [],
   "source": [
    "sc.pl.umap(pbmcs_all_qc, color=['cell_type'],\n",
    "               save='_celltypes')"
   ]
  },
  {
   "cell_type": "code",
   "execution_count": null,
   "metadata": {},
   "outputs": [],
   "source": [
    "sc.pl.umap(pbmcs_all_qc, color=\"SERPINF1\",\n",
    "           save='_serpinf1',\n",
    "           color_map=mpl.colors.LinearSegmentedColormap.from_list(\"\", [\"lightgrey\", \"red\"])\n",
    "           )"
   ]
  },
  {
   "cell_type": "code",
   "execution_count": null,
   "metadata": {},
   "outputs": [],
   "source": [
    "sc.pl.umap(pbmcs_all_qc, color=\"VEGFA\",\n",
    "           save='_vegfa',\n",
    "           color_map=mpl.colors.LinearSegmentedColormap.from_list(\"\", [\"lightgrey\", \"red\"]))"
   ]
  }
 ],
 "metadata": {
  "language_info": {
   "name": "python"
  }
 },
 "nbformat": 4,
 "nbformat_minor": 2
}
